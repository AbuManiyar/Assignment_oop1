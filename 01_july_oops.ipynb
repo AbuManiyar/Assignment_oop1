{
  "nbformat": 4,
  "nbformat_minor": 0,
  "metadata": {
    "colab": {
      "provenance": []
    },
    "kernelspec": {
      "name": "python3",
      "display_name": "Python 3"
    },
    "language_info": {
      "name": "python"
    }
  },
  "cells": [
    {
      "cell_type": "markdown",
      "source": [
        "1. What is the primary goal of Object-Oriented Programming (OOP)?\n",
        "Ans: The primary goal of OOPs solving a problem in a more structured and\n",
        "comprehensive manner by creating classes and objects. It is apart(different) from the\n",
        "procedural programming and functional programming. Hence making it one of best\n",
        "way of solving the problem.\n",
        "\n",
        "2. What is an object in Python?\n",
        "Ans: An object or instance of a class is the actual entity that has access\n",
        "to attributes of the class and methods in it. This can be more easily understood\n",
        "when we take a real world example:\n",
        "An object is whatever individual things we see around us. It may be a particular laptop you use or a home that you live in.\n",
        "\n",
        "\n",
        "3. What is a class in Python?\n",
        "Ans: Class is a blueprint of a object. In above examples we discussed a home is a object, then a collection of homes or basic structure that can be\n",
        "used to represent every individual home can be a class.\n",
        "\n",
        "\n",
        "4. What are attributes and methods in a class?\n",
        "Ans: Attributes are the properties of a class, they are basically variables whose value differ from object to object (of same class objects).\n",
        "Example: type_of_house (RCC, Modern, Old)  \n",
        "         area_of_House\n",
        "         number_of_members in house\n",
        "         number_of_rooms etc.,\n",
        "\n",
        "5. What is the difference between class variables and instance variables in Python?\n",
        "Ans: Class variable is shared by all the instances of that class. On the other hand instance varibles can only be accessed by that object for which it is declared or initiated.\n",
        "\n",
        "6. What is the purpose of the self parameter in Python class methods?\n",
        "Ans: Whenever an object calls a method in a class. That particular method will be performed on that object.\n",
        "Example:- If Animal is class, cat and dog are its objects. And Voice is a method in the class when we call this method from cat it is \"meow!\" but when we call it by dog it is \"Bow Bow\". this is because of self parameter it gives access to that object."
      ],
      "metadata": {
        "id": "Gpfc4S5cKQDT"
      }
    },
    {
      "cell_type": "markdown",
      "source": [
        "7. For a library management system, you have to design the \"Book\" class with OOP\n",
        "principles in mind. The “Book” class will have following attributes:\n",
        "a. title: Represents the title of the book.\n",
        "b. author: Represents the author(s) of the book.\n",
        "c. isbn: Represents the ISBN (International Standard Book Number) of the book.\n",
        "d. publication_year: Represents the year of publication of the book.\n",
        "e. available_copies: Represents the number of copies available for checkout.\n",
        "The class will also include the following methods:\n",
        "a. check_out(self): Decrements the available copies by one if there are copies\n",
        "available for checkout.\n",
        "b. return_book(self): Increments the available copies by one when a book is\n",
        "returned.\n",
        "c. display_book_info(self): Displays the information about the book, including its\n",
        "attributes and the number of available copies."
      ],
      "metadata": {
        "id": "YzI73BhO263k"
      }
    },
    {
      "cell_type": "code",
      "source": [
        "class Book:\n",
        "  def __init__(self, name, author, isbn, pub_year, available_copies):\n",
        "    self.name = name\n",
        "    self.author = author\n",
        "    self.isbn = isbn\n",
        "    self.publication_year = pub_year\n",
        "    self.available_copies = available_copies\n",
        "\n",
        "  def checkout(self):\n",
        "    if self.available_copies>0:\n",
        "      self.available_copies = self.available_copies - 1\n",
        "  def return_book(self):\n",
        "      self.available_copies = self.available_copies + 1\n",
        "\n",
        "  def display(self):\n",
        "    print(f\"name is {self.name}\",\n",
        "          f\"\\nauthor is {self.author}\",\n",
        "          f\"\\nisbn : {self.isbn}\",\n",
        "          f\"\\npublication year : {self.publication_year}\"\n",
        "          f\"\\ncopies available = {self.available_copies}\")\n",
        "\n"
      ],
      "metadata": {
        "id": "NiseK9JX2-DU"
      },
      "execution_count": 1,
      "outputs": []
    },
    {
      "cell_type": "code",
      "source": [
        "b1 = Book(\"Psychology of Money\", \"Morgen Housel\", \"ISBN28352\", 2020, 10)"
      ],
      "metadata": {
        "id": "XpRlNj0m_Krt"
      },
      "execution_count": 2,
      "outputs": []
    },
    {
      "cell_type": "code",
      "source": [
        "b1.checkout()"
      ],
      "metadata": {
        "id": "dIHuuGg6_TRd"
      },
      "execution_count": 3,
      "outputs": []
    },
    {
      "cell_type": "code",
      "source": [
        "b1.display()"
      ],
      "metadata": {
        "colab": {
          "base_uri": "https://localhost:8080/"
        },
        "id": "75Xu4VmBAAAX",
        "outputId": "f6b413bb-d0da-41fb-9818-cbea4beb12b2"
      },
      "execution_count": 4,
      "outputs": [
        {
          "output_type": "stream",
          "name": "stdout",
          "text": [
            "name is Psychology of Money \n",
            "author is Morgen Housel \n",
            "isbn : ISBN28352 \n",
            "publication year : 2020\n",
            "copies available = 9\n"
          ]
        }
      ]
    },
    {
      "cell_type": "code",
      "source": [
        "b1.return_book()"
      ],
      "metadata": {
        "id": "r6Qs0JwSACkT"
      },
      "execution_count": 5,
      "outputs": []
    },
    {
      "cell_type": "code",
      "source": [
        "b1.display()\n"
      ],
      "metadata": {
        "colab": {
          "base_uri": "https://localhost:8080/"
        },
        "id": "6eAfGuRjAeki",
        "outputId": "bd5a380f-60da-400f-ea6c-1b166ca18776"
      },
      "execution_count": 6,
      "outputs": [
        {
          "output_type": "stream",
          "name": "stdout",
          "text": [
            "name is Psychology of Money \n",
            "author is Morgen Housel \n",
            "isbn : ISBN28352 \n",
            "publication year : 2020\n",
            "copies available = 10\n"
          ]
        }
      ]
    },
    {
      "cell_type": "markdown",
      "source": [
        "8. For a ticket booking system, you have to design the \"Ticket\" class with OOP\n",
        "principles in mind. The “Ticket” class should have the following attributes:\n",
        "a. ticket_id: Represents the unique identifier for the ticket.\n",
        "b. event_name: Represents the name of the event.\n",
        "c. event_date: Represents the date of the event.\n",
        "d. venue: Represents the venue of the event.\n",
        "e. seat_number: Represents the seat number associated with the ticket.\n",
        "f. price: Represents the price of the ticket.\n",
        "g. is_reserved: Represents the reservation status of the ticket.\n",
        "The class also includes the following methods:\n",
        "a. reserve_ticket(self): Marks the ticket as reserved if it is not already reserved.\n",
        "b. cancel_reservation(self): Cancels the reservation of the ticket if it is already\n",
        "reserved.\n",
        "c. display_ticket_info(self): Displays the information about the ticket, including its\n",
        "attributes and reservation status."
      ],
      "metadata": {
        "id": "ERHmegG7FRdl"
      }
    },
    {
      "cell_type": "code",
      "source": [
        "class Ticket:\n",
        "  def __init__(self, ticket_id, event_name, event_date, venue, seat_number, price, is_reserved):\n",
        "    self.ticket_id = ticket_id\n",
        "    self.event_name = event_name\n",
        "    self.event_date = event_date\n",
        "    self.venue = venue\n",
        "    self.seat_number = seat_number\n",
        "    self.price = price\n",
        "    self.is_reserved = is_reserved\n",
        "\n",
        "  def reserve_ticket(self):\n",
        "    self.is_reserved = \"Reserved\"\n",
        "\n",
        "  def cancel_reservation(self):\n",
        "    self.is_reserved = \"Not Reserved\"\n",
        "\n",
        "  def display_ticket_info(self):\n",
        "    print(\n",
        "        f\" Ticket id : {self.ticket_id}\",\n",
        "        f\"\\n Event name : {self.event_name}\"\n",
        "        f\"\\n Event date : {self.event_date}\"\n",
        "        f\"\\n Venue : {self.venue}\"\n",
        "        f\"\\n Seat Number = {self.seat_number}\"\n",
        "        f\"\\n Price = {self.price}\"\n",
        "        f\"\\n Reservation Status : {self.is_reserved}\"\n",
        "    )"
      ],
      "metadata": {
        "id": "paSVDNMZE4de"
      },
      "execution_count": 7,
      "outputs": []
    },
    {
      "cell_type": "code",
      "source": [
        "t1=Ticket(7892, \"Adhyay\", \"24/07/2023\", \"v-block\", 25, 400, \"Processing\")"
      ],
      "metadata": {
        "id": "b6iQ_TX8Xma-"
      },
      "execution_count": 32,
      "outputs": []
    },
    {
      "cell_type": "code",
      "source": [
        "t1.display_ticket_info()"
      ],
      "metadata": {
        "colab": {
          "base_uri": "https://localhost:8080/"
        },
        "id": "rgjW6DwzYKfa",
        "outputId": "3724ee44-2343-4620-f2eb-05ecbd2b5e15"
      },
      "execution_count": 33,
      "outputs": [
        {
          "output_type": "stream",
          "name": "stdout",
          "text": [
            " Ticket id : 7892 \n",
            " Event name : Adhyay\n",
            " Event date : 24/07/2023\n",
            " Venue : v-block\n",
            " Seat Number = 25\n",
            " Price = 400\n",
            " Reservation Status : Registering\n"
          ]
        }
      ]
    },
    {
      "cell_type": "code",
      "source": [
        "t1.cancel_reservation()"
      ],
      "metadata": {
        "id": "lEvN6YeVYOIF"
      },
      "execution_count": 10,
      "outputs": []
    },
    {
      "cell_type": "code",
      "source": [
        "t1.display_ticket_info()"
      ],
      "metadata": {
        "colab": {
          "base_uri": "https://localhost:8080/"
        },
        "id": "B375d83VYj4N",
        "outputId": "1ab8090a-1321-4b52-fdf9-e1840d24046c"
      },
      "execution_count": 11,
      "outputs": [
        {
          "output_type": "stream",
          "name": "stdout",
          "text": [
            " Ticket id : 7892 \n",
            " Event name : Adhyay\n",
            " Event date : 24/07/2023\n",
            " Venue : v-block\n",
            " Seat Number = 25\n",
            " Price = 400\n",
            " Reservation Status : Not Reserved\n"
          ]
        }
      ]
    },
    {
      "cell_type": "markdown",
      "source": [
        "9. You are creating a shopping cart for an e-commerce website. Using OOP to model\n",
        "the \"ShoppingCart\" functionality the class should contain following attributes and\n",
        "methods:\n",
        "a. items: Represents the list of items in the shopping cart.\n",
        "The class also includes the following methods:\n",
        "\n",
        "a. add_item(self, item): Adds an item to the shopping cart by appending it to the\n",
        "list of items.\n",
        "b. remove_item(self, item): Removes an item from the shopping cart if it exists in\n",
        "the list.\n",
        "c. view_cart(self): Displays the items currently present in the shopping cart.\n",
        "d. clear_cart(self): Clears all items from the shopping cart by reassigning an\n",
        "empty list to the items attribute."
      ],
      "metadata": {
        "id": "0RIWvkYaacy0"
      }
    },
    {
      "cell_type": "code",
      "source": [
        "class ShoppingCart:\n",
        "  def __init__(self, *args):\n",
        "    self.items = list(args)\n",
        "\n",
        "  def add_item(self, item):\n",
        "    self.items.append(item)\n",
        "\n",
        "  def remove_item(self, item):\n",
        "    self.items.remove(item)\n",
        "\n",
        "  def view_cart(self):\n",
        "    return self.items\n",
        "\n",
        "  def clear_cart(self):\n",
        "    self.items.clear()"
      ],
      "metadata": {
        "id": "FuM4st5gacUV"
      },
      "execution_count": 12,
      "outputs": []
    },
    {
      "cell_type": "code",
      "source": [
        "c1 = ShoppingCart()"
      ],
      "metadata": {
        "id": "nUrXLI3iYmha"
      },
      "execution_count": 13,
      "outputs": []
    },
    {
      "cell_type": "code",
      "source": [
        "c1.view_cart()"
      ],
      "metadata": {
        "colab": {
          "base_uri": "https://localhost:8080/"
        },
        "id": "jdWrxhwU5th4",
        "outputId": "af5280f3-108e-485f-b693-c7d06e53ad51"
      },
      "execution_count": 14,
      "outputs": [
        {
          "output_type": "execute_result",
          "data": {
            "text/plain": [
              "[]"
            ]
          },
          "metadata": {},
          "execution_count": 14
        }
      ]
    },
    {
      "cell_type": "code",
      "source": [
        "c1.add_item(\"Dove\")"
      ],
      "metadata": {
        "id": "4EOtEHHz5xaD"
      },
      "execution_count": 15,
      "outputs": []
    },
    {
      "cell_type": "code",
      "source": [
        "c1.view_cart()\n"
      ],
      "metadata": {
        "colab": {
          "base_uri": "https://localhost:8080/"
        },
        "id": "wMoENPI070vP",
        "outputId": "81395bf6-a407-4f77-dda8-2c2fdacdb022"
      },
      "execution_count": 16,
      "outputs": [
        {
          "output_type": "execute_result",
          "data": {
            "text/plain": [
              "['Dove']"
            ]
          },
          "metadata": {},
          "execution_count": 16
        }
      ]
    },
    {
      "cell_type": "code",
      "source": [
        "c1.add_item(\"Medimix\")"
      ],
      "metadata": {
        "id": "SvX-p-Mb8Nbh"
      },
      "execution_count": 17,
      "outputs": []
    },
    {
      "cell_type": "code",
      "source": [
        "c1.view_cart()"
      ],
      "metadata": {
        "colab": {
          "base_uri": "https://localhost:8080/"
        },
        "id": "QAPeJ61f8SrQ",
        "outputId": "c1a57b15-93d3-463d-e5b7-abeef45215b6"
      },
      "execution_count": 18,
      "outputs": [
        {
          "output_type": "execute_result",
          "data": {
            "text/plain": [
              "['Dove', 'Medimix']"
            ]
          },
          "metadata": {},
          "execution_count": 18
        }
      ]
    },
    {
      "cell_type": "code",
      "source": [
        "c1.remove_item(\"Dove\")"
      ],
      "metadata": {
        "id": "MGr21F9G8YjM"
      },
      "execution_count": 19,
      "outputs": []
    },
    {
      "cell_type": "code",
      "source": [
        "c1.view_cart()"
      ],
      "metadata": {
        "colab": {
          "base_uri": "https://localhost:8080/"
        },
        "id": "7JkKG8jT9vMh",
        "outputId": "ed975abe-7f01-41af-9f08-850957efac2f"
      },
      "execution_count": 20,
      "outputs": [
        {
          "output_type": "execute_result",
          "data": {
            "text/plain": [
              "['Medimix']"
            ]
          },
          "metadata": {},
          "execution_count": 20
        }
      ]
    },
    {
      "cell_type": "code",
      "source": [
        "c2=ShoppingCart()"
      ],
      "metadata": {
        "id": "ycZ-gc5n9_rt"
      },
      "execution_count": 21,
      "outputs": []
    },
    {
      "cell_type": "code",
      "source": [
        "c2.view_cart()"
      ],
      "metadata": {
        "colab": {
          "base_uri": "https://localhost:8080/"
        },
        "id": "F5Mr5kj1-SWj",
        "outputId": "b00d339b-5ba0-4421-c216-d61bc038c3b0"
      },
      "execution_count": 22,
      "outputs": [
        {
          "output_type": "execute_result",
          "data": {
            "text/plain": [
              "[]"
            ]
          },
          "metadata": {},
          "execution_count": 22
        }
      ]
    },
    {
      "cell_type": "code",
      "source": [
        "c1.view_cart()"
      ],
      "metadata": {
        "colab": {
          "base_uri": "https://localhost:8080/"
        },
        "id": "g9U57eoI-VQM",
        "outputId": "40c5fd71-e5e3-4224-8c08-f4fef69a131c"
      },
      "execution_count": 23,
      "outputs": [
        {
          "output_type": "execute_result",
          "data": {
            "text/plain": [
              "['Medimix']"
            ]
          },
          "metadata": {},
          "execution_count": 23
        }
      ]
    },
    {
      "cell_type": "markdown",
      "source": [
        "10. Imagine a school management system. You have to design the \"Student\" class using\n",
        "OOP concepts.The “Student” class has the following attributes:\n",
        "a. name: Represents the name of the student.\n",
        "b. age: Represents the age of the student.\n",
        "c. grade: Represents the grade or class of the student.\n",
        "d. student_id: Represents the unique identifier for the student.\n",
        "e. attendance: Represents the attendance record of the student.\n",
        "The class should also include the following methods:\n",
        "a. update_attendance(self, date, status): Updates the attendance record of the\n",
        "student for a given date with the provided status (e.g., present or absent).\n",
        "b. get_attendance(self): Returns the attendance record of the student.\n",
        "c. get_average_attendance(self): Calculates and returns the average\n",
        "attendance percentage of the student based on their attendance record."
      ],
      "metadata": {
        "id": "PfzGv14Q-wX7"
      }
    },
    {
      "cell_type": "code",
      "source": [
        "class Student:\n",
        "  def __init__(self, name, age, grade, std_id):\n",
        "    self.name = name\n",
        "    self.age = age\n",
        "    self.grade = grade\n",
        "    self.student_id = std_id\n",
        "    self.attendance = []\n",
        "    self.date = []\n",
        "\n",
        "  def update_attendance(self, date, status):\n",
        "    if status == \"P\":\n",
        "      self.attendance.append(\"P\")\n",
        "    else : self.attendance.append(\"A\")\n",
        "    self.date.append(date)\n",
        "\n",
        "  def get_attendance(self):\n",
        "    print(f\"Student {self.name}'s Record\")\n",
        "    l= len(self.date)\n",
        "    for i in range(l):\n",
        "      print(self.date[i], self.attendance[i])\n",
        "\n",
        "  def get_average_attendance(self):\n",
        "     p = self.attendance.count(\"P\")\n",
        "     try:  print((p/len(self.attendance))*100, \"%\")\n",
        "     except ZeroDivisionError: print(\"No Records found\")\n",
        ""
      ],
      "metadata": {
        "id": "k2pXCgNe-ZGo"
      },
      "execution_count": 24,
      "outputs": []
    },
    {
      "cell_type": "code",
      "source": [
        "s1= Student(\"Ub\", 15, \"10th\", \"BA22\" )"
      ],
      "metadata": {
        "id": "1ZXfU2vwFXhZ"
      },
      "execution_count": 25,
      "outputs": []
    },
    {
      "cell_type": "code",
      "source": [
        "s1.get_average_attendance()"
      ],
      "metadata": {
        "colab": {
          "base_uri": "https://localhost:8080/"
        },
        "id": "IfK__NBqGFhu",
        "outputId": "0ee07c79-3078-4f14-8217-6ffafff10742"
      },
      "execution_count": 26,
      "outputs": [
        {
          "output_type": "stream",
          "name": "stdout",
          "text": [
            "No Records found\n"
          ]
        }
      ]
    },
    {
      "cell_type": "code",
      "source": [
        "s1.update_attendance(\"14/07/2023\",\"A\")\n",
        "s1.update_attendance(\"15/07/2023\", \"A\")\n",
        "s1.update_attendance(\"16/07/2023\", \"P\")\n",
        "s1.update_attendance(\"17/07/2023\", \"P\")\n",
        "s1.update_attendance(\"18/07/2023\", \"P\")\n"
      ],
      "metadata": {
        "id": "YVOldu6VGKu-"
      },
      "execution_count": 27,
      "outputs": []
    },
    {
      "cell_type": "code",
      "source": [
        "s1.get_attendance()"
      ],
      "metadata": {
        "colab": {
          "base_uri": "https://localhost:8080/"
        },
        "id": "gg6nvNHOG8kz",
        "outputId": "af2a4a1f-6011-4674-af14-cccb24a99c2f"
      },
      "execution_count": 28,
      "outputs": [
        {
          "output_type": "stream",
          "name": "stdout",
          "text": [
            "Student Ub's Record\n",
            "14/07/2023 A\n",
            "15/07/2023 A\n",
            "16/07/2023 P\n",
            "17/07/2023 P\n",
            "18/07/2023 P\n"
          ]
        }
      ]
    },
    {
      "cell_type": "code",
      "source": [
        "s2 = Student(\"Vaishnavi\", 15, \"10th\", \"BA23\")"
      ],
      "metadata": {
        "id": "QgWrE2GRHAQh"
      },
      "execution_count": 29,
      "outputs": []
    },
    {
      "cell_type": "code",
      "source": [
        "s2.get_attendance()"
      ],
      "metadata": {
        "colab": {
          "base_uri": "https://localhost:8080/"
        },
        "id": "2o9Ns-ypHjDN",
        "outputId": "68e326c3-c838-4eba-bf64-2aab8062b86b"
      },
      "execution_count": 30,
      "outputs": [
        {
          "output_type": "stream",
          "name": "stdout",
          "text": [
            "Student Vaishnavi's Record\n"
          ]
        }
      ]
    },
    {
      "cell_type": "code",
      "source": [
        "s1.get_average_attendance()"
      ],
      "metadata": {
        "colab": {
          "base_uri": "https://localhost:8080/"
        },
        "id": "iYohSXgCH8-W",
        "outputId": "c9f13227-42d5-475c-aa81-4909db938b43"
      },
      "execution_count": 31,
      "outputs": [
        {
          "output_type": "stream",
          "name": "stdout",
          "text": [
            "60.0 %\n"
          ]
        }
      ]
    },
    {
      "cell_type": "code",
      "source": [],
      "metadata": {
        "id": "VLMGhBOOJoCQ"
      },
      "execution_count": 31,
      "outputs": []
    }
  ]
}